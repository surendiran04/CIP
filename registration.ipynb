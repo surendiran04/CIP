{
  "nbformat": 4,
  "nbformat_minor": 0,
  "metadata": {
    "colab": {
      "provenance": [],
      "gpuType": "T4",
      "authorship_tag": "ABX9TyOHNlLCwxJTLucRqUnKxz+U",
      "include_colab_link": true
    },
    "kernelspec": {
      "name": "python3",
      "display_name": "Python 3"
    },
    "language_info": {
      "name": "python"
    },
    "accelerator": "GPU",
    "widgets": {
      "application/vnd.jupyter.widget-state+json": {
        "b37731bfb25449898a81200d7a5ca7bc": {
          "model_module": "@jupyter-widgets/controls",
          "model_name": "TextModel",
          "model_module_version": "1.5.0",
          "state": {
            "_dom_classes": [],
            "_model_module": "@jupyter-widgets/controls",
            "_model_module_version": "1.5.0",
            "_model_name": "TextModel",
            "_view_count": null,
            "_view_module": "@jupyter-widgets/controls",
            "_view_module_version": "1.5.0",
            "_view_name": "TextView",
            "continuous_update": true,
            "description": "",
            "description_tooltip": null,
            "disabled": false,
            "layout": "IPY_MODEL_2433f1d5d482435f8878992384962e59",
            "placeholder": "Enter your Name",
            "style": "IPY_MODEL_b24eea62d93f4dce988a72e7983b984e",
            "value": "rgs"
          }
        },
        "2433f1d5d482435f8878992384962e59": {
          "model_module": "@jupyter-widgets/base",
          "model_name": "LayoutModel",
          "model_module_version": "1.2.0",
          "state": {
            "_model_module": "@jupyter-widgets/base",
            "_model_module_version": "1.2.0",
            "_model_name": "LayoutModel",
            "_view_count": null,
            "_view_module": "@jupyter-widgets/base",
            "_view_module_version": "1.2.0",
            "_view_name": "LayoutView",
            "align_content": null,
            "align_items": null,
            "align_self": null,
            "border": null,
            "bottom": null,
            "display": null,
            "flex": null,
            "flex_flow": null,
            "grid_area": null,
            "grid_auto_columns": null,
            "grid_auto_flow": null,
            "grid_auto_rows": null,
            "grid_column": null,
            "grid_gap": null,
            "grid_row": null,
            "grid_template_areas": null,
            "grid_template_columns": null,
            "grid_template_rows": null,
            "height": null,
            "justify_content": null,
            "justify_items": null,
            "left": null,
            "margin": null,
            "max_height": null,
            "max_width": null,
            "min_height": null,
            "min_width": null,
            "object_fit": null,
            "object_position": null,
            "order": null,
            "overflow": null,
            "overflow_x": null,
            "overflow_y": null,
            "padding": null,
            "right": null,
            "top": null,
            "visibility": null,
            "width": null
          }
        },
        "b24eea62d93f4dce988a72e7983b984e": {
          "model_module": "@jupyter-widgets/controls",
          "model_name": "DescriptionStyleModel",
          "model_module_version": "1.5.0",
          "state": {
            "_model_module": "@jupyter-widgets/controls",
            "_model_module_version": "1.5.0",
            "_model_name": "DescriptionStyleModel",
            "_view_count": null,
            "_view_module": "@jupyter-widgets/base",
            "_view_module_version": "1.2.0",
            "_view_name": "StyleView",
            "description_width": ""
          }
        },
        "07b488cf838c492a8c589a953cf75e53": {
          "model_module": "@jupyter-widgets/controls",
          "model_name": "TextModel",
          "model_module_version": "1.5.0",
          "state": {
            "_dom_classes": [],
            "_model_module": "@jupyter-widgets/controls",
            "_model_module_version": "1.5.0",
            "_model_name": "TextModel",
            "_view_count": null,
            "_view_module": "@jupyter-widgets/controls",
            "_view_module_version": "1.5.0",
            "_view_name": "TextView",
            "continuous_update": true,
            "description": "",
            "description_tooltip": null,
            "disabled": false,
            "layout": "IPY_MODEL_51d6c560baaf41c39525ca107f825f8b",
            "placeholder": "Enter your Registration Number",
            "style": "IPY_MODEL_52774e3616ae4fbab82f79cd0beeca63",
            "value": "234"
          }
        },
        "51d6c560baaf41c39525ca107f825f8b": {
          "model_module": "@jupyter-widgets/base",
          "model_name": "LayoutModel",
          "model_module_version": "1.2.0",
          "state": {
            "_model_module": "@jupyter-widgets/base",
            "_model_module_version": "1.2.0",
            "_model_name": "LayoutModel",
            "_view_count": null,
            "_view_module": "@jupyter-widgets/base",
            "_view_module_version": "1.2.0",
            "_view_name": "LayoutView",
            "align_content": null,
            "align_items": null,
            "align_self": null,
            "border": null,
            "bottom": null,
            "display": null,
            "flex": null,
            "flex_flow": null,
            "grid_area": null,
            "grid_auto_columns": null,
            "grid_auto_flow": null,
            "grid_auto_rows": null,
            "grid_column": null,
            "grid_gap": null,
            "grid_row": null,
            "grid_template_areas": null,
            "grid_template_columns": null,
            "grid_template_rows": null,
            "height": null,
            "justify_content": null,
            "justify_items": null,
            "left": null,
            "margin": null,
            "max_height": null,
            "max_width": null,
            "min_height": null,
            "min_width": null,
            "object_fit": null,
            "object_position": null,
            "order": null,
            "overflow": null,
            "overflow_x": null,
            "overflow_y": null,
            "padding": null,
            "right": null,
            "top": null,
            "visibility": null,
            "width": null
          }
        },
        "52774e3616ae4fbab82f79cd0beeca63": {
          "model_module": "@jupyter-widgets/controls",
          "model_name": "DescriptionStyleModel",
          "model_module_version": "1.5.0",
          "state": {
            "_model_module": "@jupyter-widgets/controls",
            "_model_module_version": "1.5.0",
            "_model_name": "DescriptionStyleModel",
            "_view_count": null,
            "_view_module": "@jupyter-widgets/base",
            "_view_module_version": "1.2.0",
            "_view_name": "StyleView",
            "description_width": ""
          }
        },
        "36d1609a95204a02bb6579eb849d46cb": {
          "model_module": "@jupyter-widgets/controls",
          "model_name": "ButtonModel",
          "model_module_version": "1.5.0",
          "state": {
            "_dom_classes": [],
            "_model_module": "@jupyter-widgets/controls",
            "_model_module_version": "1.5.0",
            "_model_name": "ButtonModel",
            "_view_count": null,
            "_view_module": "@jupyter-widgets/controls",
            "_view_module_version": "1.5.0",
            "_view_name": "ButtonView",
            "button_style": "",
            "description": "Capture Images",
            "disabled": false,
            "icon": "",
            "layout": "IPY_MODEL_c9dcd54fde534098b00671b4952db8d5",
            "style": "IPY_MODEL_d13c0e7199a04b94a2589b4821c94806",
            "tooltip": ""
          }
        },
        "c9dcd54fde534098b00671b4952db8d5": {
          "model_module": "@jupyter-widgets/base",
          "model_name": "LayoutModel",
          "model_module_version": "1.2.0",
          "state": {
            "_model_module": "@jupyter-widgets/base",
            "_model_module_version": "1.2.0",
            "_model_name": "LayoutModel",
            "_view_count": null,
            "_view_module": "@jupyter-widgets/base",
            "_view_module_version": "1.2.0",
            "_view_name": "LayoutView",
            "align_content": null,
            "align_items": null,
            "align_self": null,
            "border": null,
            "bottom": null,
            "display": null,
            "flex": null,
            "flex_flow": null,
            "grid_area": null,
            "grid_auto_columns": null,
            "grid_auto_flow": null,
            "grid_auto_rows": null,
            "grid_column": null,
            "grid_gap": null,
            "grid_row": null,
            "grid_template_areas": null,
            "grid_template_columns": null,
            "grid_template_rows": null,
            "height": null,
            "justify_content": null,
            "justify_items": null,
            "left": null,
            "margin": null,
            "max_height": null,
            "max_width": null,
            "min_height": null,
            "min_width": null,
            "object_fit": null,
            "object_position": null,
            "order": null,
            "overflow": null,
            "overflow_x": null,
            "overflow_y": null,
            "padding": null,
            "right": null,
            "top": null,
            "visibility": null,
            "width": null
          }
        },
        "d13c0e7199a04b94a2589b4821c94806": {
          "model_module": "@jupyter-widgets/controls",
          "model_name": "ButtonStyleModel",
          "model_module_version": "1.5.0",
          "state": {
            "_model_module": "@jupyter-widgets/controls",
            "_model_module_version": "1.5.0",
            "_model_name": "ButtonStyleModel",
            "_view_count": null,
            "_view_module": "@jupyter-widgets/base",
            "_view_module_version": "1.2.0",
            "_view_name": "StyleView",
            "button_color": null,
            "font_weight": ""
          }
        }
      }
    }
  },
  "cells": [
    {
      "cell_type": "markdown",
      "metadata": {
        "id": "view-in-github",
        "colab_type": "text"
      },
      "source": [
        "<a href=\"https://colab.research.google.com/github/surendiran04/CIP/blob/main/registration.ipynb\" target=\"_parent\"><img src=\"https://colab.research.google.com/assets/colab-badge.svg\" alt=\"Open In Colab\"/></a>"
      ]
    },
    {
      "cell_type": "code",
      "execution_count": null,
      "metadata": {
        "colab": {
          "base_uri": "https://localhost:8080/"
        },
        "id": "I1HJ9qH4ekqJ",
        "outputId": "9d54f3cc-ac4c-4766-8975-1fc63437fe4d"
      },
      "outputs": [
        {
          "output_type": "stream",
          "name": "stdout",
          "text": [
            "--2025-03-03 14:51:18--  https://github.com/opencv/opencv/raw/master/data/haarcascades/haarcascade_frontalface_default.xml\n",
            "Resolving github.com (github.com)... 140.82.113.4\n",
            "Connecting to github.com (github.com)|140.82.113.4|:443... connected.\n",
            "HTTP request sent, awaiting response... 302 Found\n",
            "Location: https://raw.githubusercontent.com/opencv/opencv/master/data/haarcascades/haarcascade_frontalface_default.xml [following]\n",
            "--2025-03-03 14:51:19--  https://raw.githubusercontent.com/opencv/opencv/master/data/haarcascades/haarcascade_frontalface_default.xml\n",
            "Resolving raw.githubusercontent.com (raw.githubusercontent.com)... 185.199.108.133, 185.199.109.133, 185.199.110.133, ...\n",
            "Connecting to raw.githubusercontent.com (raw.githubusercontent.com)|185.199.108.133|:443... connected.\n",
            "HTTP request sent, awaiting response... 200 OK\n",
            "Length: 930127 (908K) [text/plain]\n",
            "Saving to: ‘haarcascade_frontalface_default.xml’\n",
            "\n",
            "haarcascade_frontal 100%[===================>] 908.33K  --.-KB/s    in 0.04s   \n",
            "\n",
            "2025-03-03 14:51:19 (23.3 MB/s) - ‘haarcascade_frontalface_default.xml’ saved [930127/930127]\n",
            "\n"
          ]
        }
      ],
      "source": [
        "!wget -O haarcascade_frontalface_default.xml https://github.com/opencv/opencv/raw/master/data/haarcascades/haarcascade_frontalface_default.xml\n"
      ]
    },
    {
      "cell_type": "code",
      "source": [
        "from google.colab import output\n",
        "from IPython.display import display, Javascript, Image\n",
        "import base64\n",
        "import io\n",
        "from PIL import Image as PILImage\n",
        "\n",
        "def take_photo():\n",
        "    display(Javascript('''\n",
        "        async function takePhoto() {\n",
        "            const video = document.createElement('video');\n",
        "            const stream = await navigator.mediaDevices.getUserMedia({ video: true });\n",
        "\n",
        "            document.body.appendChild(video);\n",
        "            video.srcObject = stream;\n",
        "            await new Promise((resolve) => video.onloadedmetadata = resolve);\n",
        "            video.play();\n",
        "\n",
        "            const captureButton = document.createElement('button');\n",
        "            captureButton.textContent = 'Capture';\n",
        "            document.body.appendChild(captureButton);\n",
        "\n",
        "            return new Promise((resolve) => {\n",
        "                captureButton.onclick = () => {\n",
        "                    const canvas = document.createElement('canvas');\n",
        "                    canvas.width = video.videoWidth;\n",
        "                    canvas.height = video.videoHeight;\n",
        "                    canvas.getContext('2d').drawImage(video, 0, 0);\n",
        "                    const dataUrl = canvas.toDataURL('image/jpeg', 0.8);\n",
        "\n",
        "                    stream.getTracks().forEach(track => track.stop());  // Stop the camera\n",
        "                    video.remove();\n",
        "                    captureButton.remove();\n",
        "\n",
        "                    resolve(dataUrl);  // Return the captured image\n",
        "                };\n",
        "            });\n",
        "        }\n",
        "\n",
        "        google.colab.kernel.invokeFunction('notebook.captureImage', [], {});\n",
        "    '''))\n",
        "\n",
        "    return output.eval_js(\"takePhoto()\")  # Wait for image capture\n",
        "\n",
        "def capture_image():\n",
        "    print(\"📷 Opening Camera...\")\n",
        "\n",
        "    image_data = take_photo()  # Get image data URL\n",
        "\n",
        "    if not image_data:\n",
        "        print(\"❌ No image captured.\")\n",
        "        return\n",
        "\n",
        "    # Convert base64 image data to OpenCV/PIL format\n",
        "    image_bytes = io.BytesIO(base64.b64decode(image_data.split(\",\")[1]))\n",
        "    image = PILImage.open(image_bytes)\n",
        "    image.save(\"captured_image.jpg\")\n",
        "\n",
        "    print(\"✅ Image captured and saved as 'captured_image.jpg'\")\n",
        "    display(Image(\"captured_image.jpg\"))\n",
        "\n",
        "capture_image()\n"
      ],
      "metadata": {
        "colab": {
          "base_uri": "https://localhost:8080/",
          "height": 532
        },
        "id": "6z3c7kjWfb6k",
        "outputId": "b19f98f1-9e92-4a5a-f442-cda54e4b1b2d"
      },
      "execution_count": null,
      "outputs": [
        {
          "output_type": "stream",
          "name": "stdout",
          "text": [
            "📷 Opening Camera...\n"
          ]
        },
        {
          "output_type": "display_data",
          "data": {
            "text/plain": [
              "<IPython.core.display.Javascript object>"
            ],
            "application/javascript": [
              "\n",
              "        async function takePhoto() {\n",
              "            const video = document.createElement('video');\n",
              "            const stream = await navigator.mediaDevices.getUserMedia({ video: true });\n",
              "\n",
              "            document.body.appendChild(video);\n",
              "            video.srcObject = stream;\n",
              "            await new Promise((resolve) => video.onloadedmetadata = resolve);\n",
              "            video.play();\n",
              "\n",
              "            const captureButton = document.createElement('button');\n",
              "            captureButton.textContent = 'Capture';\n",
              "            document.body.appendChild(captureButton);\n",
              "\n",
              "            return new Promise((resolve) => {\n",
              "                captureButton.onclick = () => {\n",
              "                    const canvas = document.createElement('canvas');\n",
              "                    canvas.width = video.videoWidth;\n",
              "                    canvas.height = video.videoHeight;\n",
              "                    canvas.getContext('2d').drawImage(video, 0, 0);\n",
              "                    const dataUrl = canvas.toDataURL('image/jpeg', 0.8);\n",
              "\n",
              "                    stream.getTracks().forEach(track => track.stop());  // Stop the camera\n",
              "                    video.remove();\n",
              "                    captureButton.remove();\n",
              "\n",
              "                    resolve(dataUrl);  // Return the captured image\n",
              "                };\n",
              "            });\n",
              "        }\n",
              "\n",
              "        google.colab.kernel.invokeFunction('notebook.captureImage', [], {});\n",
              "    "
            ]
          },
          "metadata": {}
        },
        {
          "output_type": "stream",
          "name": "stdout",
          "text": [
            "✅ Image captured and saved as 'captured_image.jpg'\n"
          ]
        },
        {
          "output_type": "display_data",
          "data": {
            "image/jpeg": "[encoded data removed]",
            "text/plain": [
              "<IPython.core.display.Image object>"
            ]
          },
          "metadata": {}
        }
      ]
    },
    {
      "cell_type": "code",
      "source": [
        "from google.colab import output\n",
        "from IPython.display import display, Javascript, Image\n",
        "import base64\n",
        "import io\n",
        "import os\n",
        "import csv\n",
        "import ipywidgets as widgets\n",
        "from PIL import Image as PILImage\n",
        "\n",
        "# Create folder to store registered images\n",
        "os.makedirs(\"registered_faces\", exist_ok=True)\n",
        "\n",
        "# Input fields inside the notebook\n",
        "name_input = widgets.Text(placeholder=\"Enter your Name\")\n",
        "reg_no_input = widgets.Text(placeholder=\"Enter your Registration Number\")\n",
        "capture_button = widgets.Button(description=\"Capture Image\")\n",
        "\n",
        "display(name_input, reg_no_input, capture_button)\n",
        "\n",
        "# Function to capture multiple images\n",
        "def take_photos(num_photos=5, delay=1000):\n",
        "    js = f'''\n",
        "        async function takePhotos() {{\n",
        "            const video = document.createElement('video');\n",
        "            const stream = await navigator.mediaDevices.getUserMedia({{ video: true }});\n",
        "            document.body.appendChild(video);\n",
        "            video.srcObject = stream;\n",
        "            await new Promise((resolve) => video.onloadedmetadata = resolve);\n",
        "            video.play();\n",
        "\n",
        "            let capturedImages = [];\n",
        "\n",
        "            for (let i = 0; i < {num_photos}; i++) {{\n",
        "                await new Promise(resolve => setTimeout(resolve, {delay}));\n",
        "                const canvas = document.createElement('canvas');\n",
        "                canvas.width = video.videoWidth;\n",
        "                canvas.height = video.videoHeight;\n",
        "                canvas.getContext('2d').drawImage(video, 0, 0);\n",
        "                capturedImages.push(canvas.toDataURL('image/jpeg', 0.8));\n",
        "            }}\n",
        "\n",
        "            stream.getTracks().forEach(track => track.stop());\n",
        "            video.remove();\n",
        "\n",
        "            return capturedImages;  // Return captured images\n",
        "        }}\n",
        "        takePhotos();\n",
        "    '''\n",
        "    return output.eval_js(js)  # Get captured images\n",
        "\n",
        "# Function to register user and save multiple images\n",
        "def register_user(b):\n",
        "    name = name_input.value.strip()\n",
        "    reg_no = reg_no_input.value.strip()\n",
        "\n",
        "    if not name or not reg_no:\n",
        "        print(\"❌ Registration failed. Please enter valid details.\")\n",
        "        return\n",
        "\n",
        "    print(f\"📷 Capturing images for {name} ({reg_no})...\")\n",
        "\n",
        "    image_data_list = take_photos()  # Capture images\n",
        "    if not image_data_list:\n",
        "        print(\"❌ No images captured.\")\n",
        "        return\n",
        "\n",
        "    image_list = []\n",
        "    for i, image_data in enumerate(image_data_list):\n",
        "        image_bytes = io.BytesIO(base64.b64decode(image_data.split(\",\")[1]))\n",
        "        image = PILImage.open(image_bytes)\n",
        "        filename = f\"registered_faces/{name}_{reg_no}_{i+1}.jpg\"\n",
        "        image.save(filename)\n",
        "        image_list.append(filename)\n",
        "\n",
        "    # Save details in CSV file\n",
        "    with open(\"registered_users.csv\", \"a\", newline=\"\") as file:\n",
        "        writer = csv.writer(file)\n",
        "        writer.writerow([name, reg_no] + image_list)\n",
        "\n",
        "    print(f\"✅ {name} ({reg_no}) registered successfully!\")\n",
        "\n",
        "# Link button to function\n",
        "capture_button.on_click(register_user)\n"
      ],
      "metadata": {
        "colab": {
          "base_uri": "https://localhost:8080/",
          "height": 146,
          "referenced_widgets": [
            "b37731bfb25449898a81200d7a5ca7bc",
            "2433f1d5d482435f8878992384962e59",
            "b24eea62d93f4dce988a72e7983b984e",
            "07b488cf838c492a8c589a953cf75e53",
            "51d6c560baaf41c39525ca107f825f8b",
            "52774e3616ae4fbab82f79cd0beeca63",
            "36d1609a95204a02bb6579eb849d46cb",
            "c9dcd54fde534098b00671b4952db8d5",
            "d13c0e7199a04b94a2589b4821c94806"
          ]
        },
        "id": "r3ROE0VykB2S",
        "outputId": "6fc46914-19c9-454b-fee5-a6685fc02520"
      },
      "execution_count": 26,
      "outputs": [
        {
          "output_type": "display_data",
          "data": {
            "text/plain": [
              "Text(value='', placeholder='Enter your Name')"
            ],
            "application/vnd.jupyter.widget-view+json": {
              "version_major": 2,
              "version_minor": 0,
              "model_id": "b37731bfb25449898a81200d7a5ca7bc"
            }
          },
          "metadata": {}
        },
        {
          "output_type": "display_data",
          "data": {
            "text/plain": [
              "Text(value='', placeholder='Enter your Registration Number')"
            ],
            "application/vnd.jupyter.widget-view+json": {
              "version_major": 2,
              "version_minor": 0,
              "model_id": "07b488cf838c492a8c589a953cf75e53"
            }
          },
          "metadata": {}
        },
        {
          "output_type": "display_data",
          "data": {
            "text/plain": [
              "Button(description='Capture Images', style=ButtonStyle())"
            ],
            "application/vnd.jupyter.widget-view+json": {
              "version_major": 2,
              "version_minor": 0,
              "model_id": "36d1609a95204a02bb6579eb849d46cb"
            }
          },
          "metadata": {}
        },
        {
          "output_type": "stream",
          "name": "stdout",
          "text": [
            "📷 Capturing images for rgs (234)...\n",
            "✅ rgs (234) registered successfully!\n"
          ]
        }
      ]
    }
  ]
}